{
 "cells": [
  {
   "cell_type": "markdown",
   "metadata": {
    "colab_type": "text",
    "id": "CvB-p0KKKO5q"
   },
   "source": [
    "How to use the no reference image quality assessment to get efficient storege in remote sensing.\n",
    "====================\n",
    "\n",
    "This work studies the relationships between the intrinsec features of images and the degradation caused by compaction.  We use 3 modules of software to get this relationships, and 2 modlues to use in application. \n",
    "\n",
    "Below is an example of this relationship, \n",
    "\n",
    "\n"
   ]
  },
  {
   "cell_type": "markdown",
   "metadata": {
    "colab_type": "text",
    "id": "0JxEkiZ2WwEC"
   },
   "source": [
    "\n"
   ]
  },
  {
   "cell_type": "code",
   "execution_count": 1,
   "metadata": {
    "colab": {},
    "colab_type": "code",
    "id": "IHFHy3maXUWu"
   },
   "outputs": [],
   "source": [
    "from IPython.display import Image\n",
    "from IPython.core.display import HTML\n",
    "import tabulate"
   ]
  },
  {
   "cell_type": "code",
   "execution_count": 2,
   "metadata": {
    "colab": {
     "base_uri": "https://localhost:8080/",
     "height": 525
    },
    "colab_type": "code",
    "id": "9Suz2k2bXeUO",
    "outputId": "da3b79ae-8b46-4b2e-83df-121a94999045"
   },
   "outputs": [
    {
     "data": {
      "text/html": [
       "<img src=\"https://raw.githubusercontent.com/rgiostri/Scipy_2019/master/graphics/index_1.png\"/>"
      ],
      "text/plain": [
       "<IPython.core.display.Image object>"
      ]
     },
     "execution_count": 2,
     "metadata": {},
     "output_type": "execute_result"
    }
   ],
   "source": [
    "Image(url= \"https://raw.githubusercontent.com/rgiostri/Scipy_2019/master/graphics/index_1.png\")"
   ]
  },
  {
   "cell_type": "markdown",
   "metadata": {
    "colab_type": "text",
    "id": "_UB_BuYYX9UM"
   },
   "source": [
    "In the graphics, the different colors are different bit rates in JPEG2000 compactation.\n",
    "\n",
    "This example use [Kakadu](http://kakadusoftware.com/) in compression module, the SSIM in quality module and Factal Dimension Gray Scale in No-Reference module.\n",
    "\n",
    "In the right chart, the $SSIM_R$ is the value of SSIM with bit-rate 2, this value is limit of visually lossless.\n",
    "\n",
    "Exploring this relationship it is possible to construct strategies to optimize memory,  below we make a sigmoid function training with [suburb images](https://senseflycom.s3.amazonaws.com/datasets/soda-hq/rgb-images.zip).\n"
   ]
  },
  {
   "cell_type": "code",
   "execution_count": 3,
   "metadata": {
    "colab": {
     "base_uri": "https://localhost:8080/",
     "height": 525
    },
    "colab_type": "code",
    "id": "dOoipcWpbsBt",
    "outputId": "19e399ab-6d46-44bb-d2d5-a113276434f8"
   },
   "outputs": [
    {
     "data": {
      "text/html": [
       "<img src=\"https://raw.githubusercontent.com/rgiostri/Scipy_2019/master/graphics/index_2.png\"/>"
      ],
      "text/plain": [
       "<IPython.core.display.Image object>"
      ]
     },
     "execution_count": 3,
     "metadata": {},
     "output_type": "execute_result"
    }
   ],
   "source": [
    "Image(url= \"https://raw.githubusercontent.com/rgiostri/Scipy_2019/master/graphics/index_2.png\")"
   ]
  },
  {
   "cell_type": "markdown",
   "metadata": {
    "colab_type": "text",
    "id": "qBOxURXqdDQV"
   },
   "source": [
    "The Disk Space is proportional to Bit-Rate.\n",
    "\n",
    "Using this simple strategy is possible reduce the save 70% of disk space in relacion the bit-rate 2, ensuring the desired accuracy testing with 3 different datasets.\n"
   ]
  },
  {
   "cell_type": "markdown",
   "metadata": {
    "colab_type": "text",
    "id": "R6XZTZeIJR7d"
   },
   "source": [
    "Sample of code:\n",
    "================\n",
    "\n",
    "Here are 3 meter options for use in the No-Reference module.\n"
   ]
  },
  {
   "cell_type": "code",
   "execution_count": 5,
   "metadata": {
    "colab": {},
    "colab_type": "code",
    "id": "Kx2qdBI6JkTe"
   },
   "outputs": [],
   "source": [
    "import numpy as np\n",
    "\n",
    "from skimage import data\n",
    "from skimage.color import rgb2gray\n",
    "from skimage.util import img_as_ubyte\n",
    "\n",
    "import time\n",
    "\n",
    "def timer(start,end):\n",
    "    hours, rem = divmod(end-start, 3600)\n",
    "    minutes, seconds = divmod(rem, 60)\n",
    "    print(\"{:0>2}:{:0>2}:{:05.2f}\".format(int(hours),int(minutes),seconds))  \n",
    "    "
   ]
  },
  {
   "cell_type": "code",
   "execution_count": 6,
   "metadata": {
    "colab": {
     "base_uri": "https://localhost:8080/",
     "height": 34
    },
    "colab_type": "code",
    "id": "GlwCtojI5lTi",
    "outputId": "be3c399f-4457-48e5-a375-5daef7d5ca2d"
   },
   "outputs": [],
   "source": [
    "#from google.colab import drive\n",
    "#drive.mount('/content/drive/')"
   ]
  },
  {
   "cell_type": "code",
   "execution_count": 7,
   "metadata": {
    "colab": {},
    "colab_type": "code",
    "id": "3ypkCDG-t0bX"
   },
   "outputs": [],
   "source": [
    "#google drive folder\n",
    "#data_folder='/content/drive/My Drive/Colab Notebooks/sample_images'\n",
    "#Local github project\n",
    "data_folder='./sample_images'"
   ]
  },
  {
   "cell_type": "code",
   "execution_count": 8,
   "metadata": {
    "colab": {},
    "colab_type": "code",
    "id": "yOOSd-y5uwWa"
   },
   "outputs": [
    {
     "name": "stderr",
     "output_type": "stream",
     "text": [
      "/dados/anaconda3/lib/python3.7/site-packages/skimage/util/dtype.py:141: UserWarning: Possible precision loss when converting from float64 to uint8\n",
      "  .format(dtypeobj_in, dtypeobj_out))\n"
     ]
    }
   ],
   "source": [
    "image_sample=img_as_ubyte(rgb2gray(data.imread(fname=data_folder+\"/EP-00-00012_0119_0001.jpeg\")))"
   ]
  },
  {
   "cell_type": "markdown",
   "metadata": {
    "colab_type": "text",
    "id": "q--qjCCbvkc1"
   },
   "source": [
    "Fractal dimension gray (FDG) - With box counting\n",
    "=========================\n",
    "\n",
    "Code inspired by page:  https://francescoturci.net/2016/03/31/box-counting-in-numpy/\n",
    "\n",
    "More about FDG:  https://link.springer.com/chapter/10.1007/978-981-10-7871-2_22\n",
    "\n",
    "\n",
    "Simple Loop vs Numpy  functions vs Parallell Split Image with joblib\n",
    "----------------------\n",
    "\n",
    "Simple Loop vesions"
   ]
  },
  {
   "cell_type": "code",
   "execution_count": 9,
   "metadata": {
    "colab": {},
    "colab_type": "code",
    "id": "sD9in-9bxOz4"
   },
   "outputs": [],
   "source": [
    "#\n",
    "# simpler and slower\n",
    "#\n",
    "\n",
    "def fractal_dimension_gray(image,M=256):\n",
    "    \n",
    "    # Only for 2d image\n",
    "    assert(len(image.shape) == 2)\n",
    "    dim_h,dim_v=image.shape\n",
    "    \n",
    "    #Indices in 3D structure\n",
    "    ind=[]\n",
    "    for i in range(dim_h):\n",
    "        for j in range(dim_v):\n",
    "            if image[i,j]>0:\n",
    "                ind.append((i,j,image[i,j]))\n",
    "    ind=np.array(ind)\n",
    "\n",
    "    # Minimal dimension of image\n",
    "    p = min((dim_h,dim_v,M))\n",
    "\n",
    "    # Greatest power of 2 less than or equal to p\n",
    "    n = 2**np.floor(np.log(p)/np.log(2))\n",
    "\n",
    "    # Extract the exponent\n",
    "    n = int(np.log(n)/np.log(2))\n",
    "\n",
    "    # Build successive box sizes (from 2**n down to 2**1)\n",
    "    sizes = 2**np.arange(n, 0, -2)\n",
    "\n",
    "    # Actual box counting with decreasing size\n",
    "    Ns = []\n",
    "    for size in sizes:\n",
    "        H, edges=np.histogramdd(ind, bins=(np.arange(0,dim_h+size,size),np.arange(0,dim_v+size,size),np.arange(0,M+1,size)))\n",
    "        Ns.append(np.sum(H>0))\n",
    "\n",
    "    # Fit the successive log(sizes) with log (counts)\n",
    "    coeffs = np.polyfit(np.log(sizes), np.log(Ns), 1)\n",
    "    return -coeffs[0]\n"
   ]
  },
  {
   "cell_type": "code",
   "execution_count": 10,
   "metadata": {
    "colab": {
     "base_uri": "https://localhost:8080/",
     "height": 52
    },
    "colab_type": "code",
    "id": "qZMCr7Xexi7M",
    "outputId": "5ecfbd0e-55aa-466d-b969-87327f86fadd"
   },
   "outputs": [
    {
     "name": "stdout",
     "output_type": "stream",
     "text": [
      "2.3973641172506426\n",
      "00:01:08.73\n"
     ]
    }
   ],
   "source": [
    "# time spent for once\n",
    "a1=time.time()\n",
    "r1=fractal_dimension_gray(image_sample)\n",
    "print(r1)\n",
    "b1=time.time()\n",
    "timer(a1,b1)"
   ]
  },
  {
   "cell_type": "markdown",
   "metadata": {
    "colab_type": "text",
    "id": "gu1hl1z_yNGN"
   },
   "source": [
    "Numpy funcitions version"
   ]
  },
  {
   "cell_type": "code",
   "execution_count": 11,
   "metadata": {
    "colab": {},
    "colab_type": "code",
    "id": "zGX718hh5lTx"
   },
   "outputs": [],
   "source": [
    "#\n",
    "# Replace the fist loop to make a 3D strutire\n",
    "#\n",
    "def image_3d_no_zero(image):\n",
    "    #only no zero index\n",
    "    mask_no_0=image>=0\n",
    "    n_dif_zero=np.sum(mask_no_0)\n",
    "    # no zero image\n",
    "    assert(n_dif_zero > 0)\n",
    "    image_single_index=image[mask_no_0].reshape(n_dif_zero)\n",
    "    index=np.argwhere(mask_no_0).T\n",
    "    return np.vstack((index,image_single_index)).T"
   ]
  },
  {
   "cell_type": "code",
   "execution_count": 12,
   "metadata": {
    "colab": {},
    "colab_type": "code",
    "id": "r799ICVl5lUM"
   },
   "outputs": [],
   "source": [
    "#\n",
    "# Separating the For of scales - Is possible parallel this using joblib or numba or other packages\n",
    "#\n",
    "\n",
    "def for_scales(im3d,scales,bins_lim):\n",
    "    Ns=[]\n",
    "    for size in scales:\n",
    "        H, edges=np.histogramdd(im3d, bins=(np.arange(0,bins_lim[0]+size,size),np.arange(0,bins_lim[1]+size,size),np.arange(0,bins_lim[2]+size,size)))\n",
    "        Ns.append(np.sum(H>0))\n",
    "    return Ns"
   ]
  },
  {
   "cell_type": "code",
   "execution_count": 13,
   "metadata": {
    "colab": {},
    "colab_type": "code",
    "id": "G9Oj5bX509Vn"
   },
   "outputs": [],
   "source": [
    "# Split in blocks of code\n",
    "\n",
    "\n",
    "def fractal_dimension_gray_np(image,M=256):\n",
    "    \n",
    "    dim_h,dim_v=image.shape\n",
    "    \n",
    "    #Indices in 3D structure\n",
    "    ind=image_3d_no_zero(image)\n",
    "\n",
    "    # Minimal dimension of image\n",
    "    p = min((dim_h,dim_v,M))\n",
    "\n",
    "    # Greatest power of 2 less than or equal to p\n",
    "    n = 2**np.floor(np.log(p)/np.log(2))\n",
    "\n",
    "    # Extract the exponent\n",
    "    n = int(np.log(n)/np.log(2))\n",
    "\n",
    "    # Build successive box sizes (from 2**n down to 2**1)\n",
    "    sizes = 2**np.arange(n, 0, -2)\n",
    "    \n",
    "    # Actual box counting with decreasing size\n",
    "    \n",
    "    Ns=for_scales(ind,sizes,(dim_h,dim_v,M))\n",
    "    \n",
    "    # Fit the successive log(sizes) with log (counts)\n",
    "    coeffs = np.polyfit(np.log(sizes), np.log(Ns), 1)\n",
    "    return -coeffs[0]"
   ]
  },
  {
   "cell_type": "code",
   "execution_count": 14,
   "metadata": {
    "colab": {
     "base_uri": "https://localhost:8080/",
     "height": 52
    },
    "colab_type": "code",
    "id": "HHvb7P-h1t7f",
    "outputId": "1253489c-b123-4c57-ed23-00ed1f0aeeeb"
   },
   "outputs": [
    {
     "name": "stdout",
     "output_type": "stream",
     "text": [
      "2.3973641172506426\n",
      "00:00:05.14\n"
     ]
    }
   ],
   "source": [
    "#time spent for once, fist time\n",
    "a21=time.time()\n",
    "r21=fractal_dimension_gray_np(image_sample)\n",
    "print(r21)\n",
    "b21=time.time()\n",
    "timer(a21,b21)"
   ]
  },
  {
   "cell_type": "code",
   "execution_count": 15,
   "metadata": {
    "colab": {
     "base_uri": "https://localhost:8080/",
     "height": 52
    },
    "colab_type": "code",
    "id": "HHvb7P-h1t7f",
    "outputId": "1253489c-b123-4c57-ed23-00ed1f0aeeeb"
   },
   "outputs": [
    {
     "name": "stdout",
     "output_type": "stream",
     "text": [
      "2.3973641172506426\n",
      "00:00:05.12\n"
     ]
    }
   ],
   "source": [
    "#time spent for once, second time\n",
    "a22=time.time()\n",
    "r22=fractal_dimension_gray_np(image_sample)\n",
    "print(r22)\n",
    "b22=time.time()\n",
    "timer(a22,b22)"
   ]
  },
  {
   "cell_type": "markdown",
   "metadata": {
    "colab_type": "text",
    "id": "DkMgzpFX22e7"
   },
   "source": [
    "Paralleling the scales  using joblib"
   ]
  },
  {
   "cell_type": "code",
   "execution_count": 17,
   "metadata": {
    "colab": {},
    "colab_type": "code",
    "id": "KekVMY6_4NqV"
   },
   "outputs": [],
   "source": [
    "from joblib import Parallel, delayed"
   ]
  },
  {
   "cell_type": "code",
   "execution_count": 18,
   "metadata": {
    "colab": {},
    "colab_type": "code",
    "id": "rRuwnfiH6UsF"
   },
   "outputs": [],
   "source": [
    "#\n",
    "# Without loop\n",
    "#\n",
    "def core_for_scales(im3d,size,bins_lim):\n",
    "    H, edges=np.histogramdd(im3d, bins=(np.arange(0,bins_lim[0]+size,size),np.arange(0,bins_lim[1]+size,size),np.arange(0,bins_lim[2]+size,size)))\n",
    "    return np.sum(H>0)"
   ]
  },
  {
   "cell_type": "code",
   "execution_count": 19,
   "metadata": {
    "colab": {},
    "colab_type": "code",
    "id": "YrQVE-ha20Dl"
   },
   "outputs": [],
   "source": [
    "# Split in blocks of code\n",
    "# Note about Number of cores : More cores => More memory spent\n",
    "\n",
    "\n",
    "def fractal_dimension_gray_np_parallel_scale(image,M=256,cores=2):\n",
    "    \n",
    "    dim_h,dim_v=image.shape\n",
    "    \n",
    "    #Indices in 3D structure\n",
    "    ind=image_3d_no_zero(image)\n",
    "\n",
    "    # Minimal dimension of image\n",
    "    p = min((dim_h,dim_v,M))\n",
    "\n",
    "    # Greatest power of 2 less than or equal to p\n",
    "    n = 2**np.floor(np.log(p)/np.log(2))\n",
    "\n",
    "    # Extract the exponent\n",
    "    n = int(np.log(n)/np.log(2))\n",
    "\n",
    "    # Build successive box sizes (from 2**n down to 2**1)\n",
    "    sizes = 2**np.arange(n, 0, -2)    \n",
    "    \n",
    "        \n",
    "    # Actual box counting with decreasing size\n",
    "    \n",
    "    Ns=Parallel(n_jobs=cores)(delayed(core_for_scales)(ind,node,(dim_h,dim_v,M)) for node in sizes)\n",
    "    \n",
    "    # Fit the successive log(sizes) with log (counts)\n",
    "    coeffs = np.polyfit(np.log(sizes), np.log(Ns), 1)\n",
    "    return -coeffs[0]"
   ]
  },
  {
   "cell_type": "code",
   "execution_count": 20,
   "metadata": {
    "colab": {
     "base_uri": "https://localhost:8080/",
     "height": 52
    },
    "colab_type": "code",
    "id": "0dp3NNml47AX",
    "outputId": "093d11e7-2353-48f5-f5de-b23709dfa643"
   },
   "outputs": [
    {
     "name": "stdout",
     "output_type": "stream",
     "text": [
      "2.3973641172506426\n",
      "00:00:04.56\n"
     ]
    }
   ],
   "source": [
    "#  time spent for once, fist time\n",
    "a31=time.time()\n",
    "r31=fractal_dimension_gray_np_parallel_scale(image_sample)\n",
    "print(r31)\n",
    "b31=time.time()\n",
    "timer(a31,b31)"
   ]
  },
  {
   "cell_type": "code",
   "execution_count": 50,
   "metadata": {},
   "outputs": [
    {
     "name": "stdout",
     "output_type": "stream",
     "text": [
      "2.3973641172506426\n",
      "00:00:04.12\n"
     ]
    }
   ],
   "source": [
    "#  time spent for once, second time\n",
    "a32=time.time()\n",
    "r32=fractal_dimension_gray_np_parallel_scale(image_sample)\n",
    "print(r32)\n",
    "b32=time.time()\n",
    "timer(a32,b32)"
   ]
  },
  {
   "cell_type": "markdown",
   "metadata": {
    "colab_type": "text",
    "id": "CnxANzYQ5lUs"
   },
   "source": [
    "Parallell Split Image"
   ]
  },
  {
   "cell_type": "code",
   "execution_count": 22,
   "metadata": {
    "colab": {},
    "colab_type": "code",
    "id": "ZHOTfb4O5lVb"
   },
   "outputs": [],
   "source": [
    "#\n",
    "# Split image in blocks with size (M,N)\n",
    "#\n",
    "#\n",
    "\n",
    "def split_images_block(image,block=(256,256)):\n",
    "    ### Initial quantity\n",
    "    M,N = image.shape #\n",
    "    m,n = block #\n",
    "    Mim, Nin = M/m, N/n # number of integer blocks available\n",
    "    Mrm, Nrn = M%m, N%n # number of over pixels\n",
    "    #print Mrm, Nrn\n",
    "    im=np.zeros((M+m,N+n))\n",
    "    im[:M,:N]=image[:,:]\n",
    "    \n",
    "    if Mrm==0:\n",
    "        dm=0\n",
    "    else:\n",
    "        dm=1\n",
    "    if Nrn==0:\n",
    "        dn=0\n",
    "    else:\n",
    "        dn=1\n",
    "        \n",
    "    range_m=np.arange(Mim+dm).astype(np.int)\n",
    "    range_n=np.arange(Nin+dn).astype(np.int)\n",
    "    \n",
    "    sample = () # inicialize output\n",
    "    \n",
    "    ########\n",
    "    for i in range_m:\n",
    "        for j in range_n:\n",
    "            im_slice=im[m*i:m*i+m,n*j:n*j+n]\n",
    "            sample+=((im_slice),)\n",
    "    return np.array(sample)\n"
   ]
  },
  {
   "cell_type": "code",
   "execution_count": 23,
   "metadata": {
    "colab": {},
    "colab_type": "code",
    "id": "L8ZThXko5lWN"
   },
   "outputs": [],
   "source": [
    "def Sizes_FDG(M=256,block=(256,256),step=2):\n",
    "    #\n",
    "    #\n",
    "    dim_h,dim_v=block\n",
    "    # Minimal dimension of image\n",
    "    p = min((dim_h,dim_v,M))\n",
    "    # Greatest power of 2 less than or equal to p\n",
    "    n = 2**np.floor(np.log(p)/np.log(2))\n",
    "    # Extract the exponent\n",
    "    n = int(np.log(n)/np.log(2))\n",
    "    # Build successive box sizes (from 2**n down to 2**1)\n",
    "    return 2**np.arange(n, 0, -1*step)\n",
    "    "
   ]
  },
  {
   "cell_type": "code",
   "execution_count": 24,
   "metadata": {},
   "outputs": [],
   "source": [
    "#\n",
    "# Replace the fist loop to make a 3D strutire\n",
    "#\n",
    "def image_3d_no_zero(image):\n",
    "    #only no zero index\n",
    "    mask_no_0=image>0\n",
    "    n_dif_zero=np.sum(mask_no_0)\n",
    "    # no zero image\n",
    "    image_single_index=image[mask_no_0].reshape(n_dif_zero)\n",
    "    index=np.argwhere(mask_no_0).T\n",
    "    return np.vstack((index,image_single_index)).T"
   ]
  },
  {
   "cell_type": "code",
   "execution_count": 25,
   "metadata": {
    "colab": {},
    "colab_type": "code",
    "id": "0jM-m4Vn5lWU"
   },
   "outputs": [],
   "source": [
    "def Counts_py_FDG(image,sizes,M=256,block=(256,256)):\n",
    "    #\n",
    "    dim_h,dim_v=block\n",
    "    #\n",
    "    ind=image_3d_no_zero(image)\n",
    "    #\n",
    "    #\n",
    "    Ns = []\n",
    "    for size in sizes:\n",
    "        H, edges=np.histogramdd(ind, bins=(np.arange(0,dim_h+size,size),np.arange(0,dim_v+size,size),np.arange(0,M+size,size)))\n",
    "        Ns.append(np.sum(H>0))\n",
    "    return Ns"
   ]
  },
  {
   "cell_type": "code",
   "execution_count": 46,
   "metadata": {
    "colab": {},
    "colab_type": "code",
    "id": "HlVGRLaa5lWY"
   },
   "outputs": [],
   "source": [
    "def Loop_py_FDG(image,M=256,block=(256,256),step=2,cores=1):\n",
    "    \n",
    "    assert(len(image.shape) == 2)\n",
    "    \n",
    "    #Sizes\n",
    "    sizes=Sizes_FDG(M,block,step)\n",
    "    \n",
    "    im_slice=split_images_block(image,block)\n",
    "    \n",
    "    Ns=Parallel(n_jobs=cores)(delayed(Counts_py_FDG)(node,sizes,M,block) for node in im_slice)\n",
    "    counts=np.sum(Ns,axis=0)\n",
    "    \n",
    "    coeffs = np.polyfit(np.log(sizes), np.log(counts), 1)\n",
    "\n",
    "    return -coeffs[0]\n",
    "    "
   ]
  },
  {
   "cell_type": "code",
   "execution_count": 47,
   "metadata": {
    "colab": {
     "base_uri": "https://localhost:8080/",
     "height": 52
    },
    "colab_type": "code",
    "id": "4aWoJy3T5lWb",
    "outputId": "0c3ba2ad-8ac2-4e8a-c08c-c6fadf6a1265"
   },
   "outputs": [
    {
     "name": "stdout",
     "output_type": "stream",
     "text": [
      "2.3973641172506426\n",
      "00:00:01.86\n"
     ]
    }
   ],
   "source": [
    "#  time spent for once\n",
    "a41=time.time()\n",
    "r41=Loop_py_FDG(image_sample,cores=4)\n",
    "print(r41)\n",
    "b41=time.time()\n",
    "timer(a41,b41)"
   ]
  },
  {
   "cell_type": "code",
   "execution_count": 48,
   "metadata": {
    "colab": {
     "base_uri": "https://localhost:8080/",
     "height": 52
    },
    "colab_type": "code",
    "id": "4aWoJy3T5lWb",
    "outputId": "0c3ba2ad-8ac2-4e8a-c08c-c6fadf6a1265"
   },
   "outputs": [
    {
     "name": "stdout",
     "output_type": "stream",
     "text": [
      "2.3973641172506426\n",
      "00:00:01.79\n"
     ]
    }
   ],
   "source": [
    "#  time spent for once,second time\n",
    "a42=time.time()\n",
    "r42=Loop_py_FDG(image_sample,cores=4)\n",
    "print(r42)\n",
    "b42=time.time()\n",
    "timer(a42,b42)"
   ]
  },
  {
   "cell_type": "code",
   "execution_count": 88,
   "metadata": {},
   "outputs": [
    {
     "data": {
      "text/html": [
       "<table>\n",
       "<tbody>\n",
       "<tr><td>Architecture                  </td><td>Time (s)</td></tr>\n",
       "<tr><td>Python Loop                   </td><td>0.87    </td></tr>\n",
       "<tr><td>Numpy Array                   </td><td>5.12    </td></tr>\n",
       "<tr><td>Parallel loop scales          </td><td>4.12    </td></tr>\n",
       "<tr><td>Parallel image split (4 cores)</td><td>1.79    </td></tr>\n",
       "</tbody>\n",
       "</table>"
      ],
      "text/plain": [
       "<IPython.core.display.HTML object>"
      ]
     },
     "metadata": {},
     "output_type": "display_data"
    }
   ],
   "source": [
    "table = [['Architecture','Time (s)'],\n",
    "        ['Python Loop',np.round(b1-a1,2)],\n",
    "         ['Numpy Array',np.round(b22-a22,2)],\n",
    "         ['Parallel loop scales',np.round(b32-a32,2)],\n",
    "         ['Parallel image split (4 cores)',np.round(b42-a42,2)]]\n",
    "display(HTML(tabulate.tabulate(table, tablefmt='html')))"
   ]
  },
  {
   "cell_type": "markdown",
   "metadata": {
    "colab_type": "text",
    "id": "PgwgI3Sd5lXX"
   },
   "source": [
    "Edge Density - With Total Variation ( TV )\n",
    "==========\n",
    "\n",
    "Code inspired by page:  http://numba.pydata.org/numba-doc/0.15.1/examples.html\n",
    "\n",
    "More about TV : https://link.springer.com/referenceworkentry/10.1007%2F978-0-387-92920-0_23\n",
    "\n",
    "Scikit-Image Sobel vs Numba Exemple Vs Numba Parallel\n",
    "-------------------------------------\n",
    "\n",
    "Scikit-Image Sobel\n",
    "\n"
   ]
  },
  {
   "cell_type": "code",
   "execution_count": 51,
   "metadata": {
    "colab": {},
    "colab_type": "code",
    "id": "W82kqzar_z8C"
   },
   "outputs": [],
   "source": [
    "from skimage.filters import sobel_h, sobel_v"
   ]
  },
  {
   "cell_type": "code",
   "execution_count": 52,
   "metadata": {
    "colab": {},
    "colab_type": "code",
    "id": "oFa4NfXo_qs0"
   },
   "outputs": [],
   "source": [
    "def tv_image_sobel_sk(x):\n",
    "    pv,ph=x.shape\n",
    "    vdiff = sobel_v(x)\n",
    "    hdiff = sobel_h(x)\n",
    "    v_norma = np.sqrt(vdiff**2+hdiff**2)\n",
    "    return (100*np.sum((v_norma-v_norma.min())/(v_norma.max()-v_norma.min())/(pv*ph)))"
   ]
  },
  {
   "cell_type": "code",
   "execution_count": 54,
   "metadata": {
    "colab": {},
    "colab_type": "code",
    "id": "RiRrHhhxAPyO"
   },
   "outputs": [],
   "source": [
    "# In -1 to 1 interval\n",
    "image_sample=rgb2gray(data.imread(fname=data_folder+\"/EP-00-00012_0119_0001.jpeg\")).astype(np.float32)"
   ]
  },
  {
   "cell_type": "code",
   "execution_count": 59,
   "metadata": {
    "colab": {
     "base_uri": "https://localhost:8080/",
     "height": 52
    },
    "colab_type": "code",
    "id": "XjpTEPc3AFAK",
    "outputId": "6fe2122b-0558-457e-cd1e-f6c5f12cf4b7"
   },
   "outputs": [
    {
     "name": "stdout",
     "output_type": "stream",
     "text": [
      "6.062951265283221\n",
      "00:00:00.87\n"
     ]
    }
   ],
   "source": [
    "# time spent for once\n",
    "a1=time.time()\n",
    "r1=tv_image_sobel_sk(image_sample)\n",
    "print(r1)\n",
    "b1=time.time()\n",
    "timer(a1,b1)"
   ]
  },
  {
   "cell_type": "code",
   "execution_count": 82,
   "metadata": {
    "colab": {
     "base_uri": "https://localhost:8080/",
     "height": 173
    },
    "colab_type": "code",
    "id": "CVqbihyZBjM_",
    "outputId": "cd3d3197-55b4-447c-ae71-3fbc420bbed4"
   },
   "outputs": [
    {
     "name": "stdout",
     "output_type": "stream",
     "text": [
      "00:00:09.35\n"
     ]
    }
   ],
   "source": [
    "#Nine times\n",
    "ar=time.time()\n",
    "for i in range(1,9):\n",
    "    image_sample=rgb2gray(data.imread(fname=data_folder+\"/EP-00-00012_0119_000\"+str(i)+\".jpeg\")).astype(np.float32)\n",
    "br=time.time()\n",
    "timer(ar,br)"
   ]
  },
  {
   "cell_type": "code",
   "execution_count": 64,
   "metadata": {
    "colab": {
     "base_uri": "https://localhost:8080/",
     "height": 173
    },
    "colab_type": "code",
    "id": "CVqbihyZBjM_",
    "outputId": "cd3d3197-55b4-447c-ae71-3fbc420bbed4"
   },
   "outputs": [
    {
     "name": "stdout",
     "output_type": "stream",
     "text": [
      "6.062951265283221\n",
      "9.179697131757003\n",
      "4.52938016237055\n",
      "3.733969865066608\n",
      "4.154534702614658\n",
      "5.4798726666809054\n",
      "5.238264643273116\n",
      "4.201436048130091\n",
      "00:00:16.11\n"
     ]
    }
   ],
   "source": [
    "#Nine times\n",
    "a1r=time.time()\n",
    "for i in range(1,9):\n",
    "    image_sample=rgb2gray(data.imread(fname=data_folder+\"/EP-00-00012_0119_000\"+str(i)+\".jpeg\")).astype(np.float32)\n",
    "    print(tv_image_sobel_sk(image_sample))\n",
    "b1r=time.time()\n",
    "timer(a1r,b1r)"
   ]
  },
  {
   "cell_type": "markdown",
   "metadata": {
    "colab_type": "text",
    "id": "_kclTcI6ARpf"
   },
   "source": [
    "Numba Exemple"
   ]
  },
  {
   "cell_type": "code",
   "execution_count": 65,
   "metadata": {
    "colab": {},
    "colab_type": "code",
    "id": "9MVec-Iz5lXZ"
   },
   "outputs": [],
   "source": [
    "import numba as nb"
   ]
  },
  {
   "cell_type": "code",
   "execution_count": 66,
   "metadata": {
    "colab": {},
    "colab_type": "code",
    "id": "s9-LWA8G5lXc"
   },
   "outputs": [],
   "source": [
    "def filter2d(image, filt):\n",
    "    M, N = image.shape\n",
    "    Mf, Nf = filt.shape\n",
    "    Mf2 = Mf // 2\n",
    "    Nf2 = Nf // 2\n",
    "    result = np.zeros_like(image)\n",
    "    for i in range(Mf2, M - Mf2):\n",
    "        for j in range(Nf2, N - Nf2):\n",
    "            num = 0.0\n",
    "            for ii in range(Mf):\n",
    "                for jj in range(Nf):\n",
    "                    num += (filt[Mf-1-ii, Nf-1-jj] * image[i-Mf2+ii, j-Nf2+jj])\n",
    "            result[i, j] = num\n",
    "    return result\n",
    "\n",
    "# This kind of quadruply-nested for-loop is going to be quite slow.\n",
    "# Using Numba we can compile this code to LLVM which then gets\n",
    "# compiled to machine code:\n",
    "\n",
    "fastfilter_2d = nb.jit(nb.float_[:,:](nb.float_[:,:], nb.float_[:,:]))(filter2d)\n",
    "\n",
    "# Now fastfilter_2d runs at speeds as if you had first translated\n",
    "# it to C, compiled the code and wrapped it with Python"
   ]
  },
  {
   "cell_type": "code",
   "execution_count": 67,
   "metadata": {
    "colab": {},
    "colab_type": "code",
    "id": "Wh2D402F5lXk"
   },
   "outputs": [],
   "source": [
    "# Sobel Masks\n",
    "Gx=np.array(((-1,0,+1),(-2,0,+2),(-1,0,+1)),dtype=np.float32)\n",
    "Gy=Gx.T[::-1]"
   ]
  },
  {
   "cell_type": "code",
   "execution_count": 68,
   "metadata": {
    "colab": {},
    "colab_type": "code",
    "id": "iE2tAkll5lXs"
   },
   "outputs": [],
   "source": [
    "def tv_image_sobel_numba(x):\n",
    "    pv,ph=x.shape\n",
    "    vdiff = fastfilter_2d(x,Gx)\n",
    "    hdiff = fastfilter_2d(x,Gy)\n",
    "    v_norma =  np.sqrt(vdiff**2+hdiff**2)\n",
    "    return (100*np.sum((v_norma-v_norma.min())/(v_norma.max()-v_norma.min())/(pv*ph)))"
   ]
  },
  {
   "cell_type": "code",
   "execution_count": 69,
   "metadata": {
    "colab": {
     "base_uri": "https://localhost:8080/",
     "height": 52
    },
    "colab_type": "code",
    "id": "Zw1jMtPj5lXv",
    "outputId": "578fca71-f51c-48f4-88b4-db97d9468bb3"
   },
   "outputs": [
    {
     "name": "stdout",
     "output_type": "stream",
     "text": [
      "4.201436048130091\n",
      "00:00:01.48\n"
     ]
    }
   ],
   "source": [
    "# time spent for once\n",
    "a2=time.time()\n",
    "print(tv_image_sobel_numba(image_sample))\n",
    "b2=time.time()\n",
    "timer(a2,b2)"
   ]
  },
  {
   "cell_type": "code",
   "execution_count": 80,
   "metadata": {
    "colab": {
     "base_uri": "https://localhost:8080/",
     "height": 173
    },
    "colab_type": "code",
    "id": "rm5sLdBC5lX2",
    "outputId": "00249096-e972-41a5-b99f-0d3303bdf0ab"
   },
   "outputs": [
    {
     "name": "stdout",
     "output_type": "stream",
     "text": [
      "6.062951265283221\n",
      "9.179697131757003\n",
      "4.52938016237055\n",
      "3.733969865066608\n",
      "4.154534702614658\n",
      "5.4798726666809054\n",
      "5.238264643273116\n",
      "4.201436048130091\n",
      "00:00:20.45\n"
     ]
    }
   ],
   "source": [
    "#Nine times\n",
    "a2r=time.time()\n",
    "for i in range(1,9):\n",
    "    image_sample=rgb2gray(data.imread(fname=data_folder+\"/EP-00-00012_0119_000\"+str(i)+\".jpeg\")).astype(np.float32)\n",
    "    print(tv_image_sobel_numba(image_sample))\n",
    "b2r=time.time()\n",
    "timer(a2r,b2r)"
   ]
  },
  {
   "cell_type": "markdown",
   "metadata": {
    "colab_type": "text",
    "id": "bBB2ljAbCWK-"
   },
   "source": [
    "Use filter to make a TV with or without parallelism"
   ]
  },
  {
   "cell_type": "code",
   "execution_count": 71,
   "metadata": {
    "colab": {},
    "colab_type": "code",
    "id": "nMXhC1kT5lZE"
   },
   "outputs": [],
   "source": [
    "@nb.jit()\n",
    "\n",
    "def fast_tv_numba(image, filt):\n",
    "    filt_x=filt[:,:]\n",
    "    filt_y=filt.T[::-1]\n",
    "    M, N = image.shape\n",
    "    Mf, Nf = filt.shape\n",
    "    Mf2 = Mf // 2\n",
    "    Nf2 = Nf // 2\n",
    "    result = np.zeros_like(image)\n",
    "    for i in range(Mf2, M - Mf2):\n",
    "        for j in range(Nf2, N - Nf2):\n",
    "            num_x = 0.0\n",
    "            num_y = 0.0\n",
    "            for ii in range(Mf):\n",
    "                for jj in range(Nf):\n",
    "                    num_x += (filt_x[Mf-1-ii, Nf-1-jj] * image[i-Mf2+ii, j-Nf2+jj])\n",
    "                    num_y += (filt_y[Mf-1-ii, Nf-1-jj] * image[i-Mf2+ii, j-Nf2+jj])\n",
    "            result[i, j] = np.sqrt(num_x**2+num_y**2)\n",
    "    return (100*np.sum((result-result.min())/(result.max()-result.min())/(M*N)))"
   ]
  },
  {
   "cell_type": "code",
   "execution_count": 72,
   "metadata": {
    "colab": {
     "base_uri": "https://localhost:8080/",
     "height": 173
    },
    "colab_type": "code",
    "id": "iT1N6rF-Ct_L",
    "outputId": "8361d415-4ec7-4b80-91ac-430909bfb067"
   },
   "outputs": [
    {
     "name": "stdout",
     "output_type": "stream",
     "text": [
      "6.062951329661052\n",
      "9.179697380349383\n",
      "4.529380426773862\n",
      "3.7339698894153948\n",
      "4.15453435515196\n",
      "5.479872731494899\n",
      "5.238264879543396\n",
      "4.201436168588906\n",
      "00:00:18.21\n"
     ]
    }
   ],
   "source": [
    "#Nine times\n",
    "a3r=time.time()\n",
    "for i in range(1,9):\n",
    "    image_sample=rgb2gray(data.imread(fname=data_folder+\"/EP-00-00012_0119_000\"+str(i)+\".jpeg\"))\n",
    "    print(fast_tv_numba(image_sample,Gx))\n",
    "b3r=time.time()\n",
    "timer(a3r,b3r)"
   ]
  },
  {
   "cell_type": "code",
   "execution_count": 77,
   "metadata": {
    "colab": {},
    "colab_type": "code",
    "id": "fF9dsenlC37C"
   },
   "outputs": [],
   "source": [
    "@nb.njit(parallel=True)\n",
    "\n",
    "def fast_tv_numba_par(image, filt):\n",
    "    filt_x=filt[:,:]\n",
    "    filt_y=filt.T[::-1]\n",
    "    M, N = image.shape\n",
    "    Mf, Nf = filt.shape\n",
    "    Mf2 = Mf // 2\n",
    "    Nf2 = Nf // 2\n",
    "    result = np.zeros_like(image)\n",
    "    for i in nb.prange(Mf2, M - Mf2):\n",
    "        for j in range(Nf2, N - Nf2):\n",
    "            num_x = 0.0\n",
    "            num_y = 0.0\n",
    "            for ii in range(Mf):\n",
    "                for jj in range(Nf):\n",
    "                    num_x += (filt_x[Mf-1-ii, Nf-1-jj] * image[i-Mf2+ii, j-Nf2+jj])\n",
    "                    num_y += (filt_y[Mf-1-ii, Nf-1-jj] * image[i-Mf2+ii, j-Nf2+jj])\n",
    "            result[i, j] = np.sqrt(num_x**2+num_y**2)\n",
    "    return (100*np.sum((result-result.min())/(result.max()-result.min())/(M*N)))"
   ]
  },
  {
   "cell_type": "code",
   "execution_count": 81,
   "metadata": {
    "colab": {
     "base_uri": "https://localhost:8080/",
     "height": 173
    },
    "colab_type": "code",
    "id": "AfEN0g-7DRzA",
    "outputId": "5d1955b8-8a86-44dd-a7a4-2ec684a21f9c"
   },
   "outputs": [
    {
     "name": "stdout",
     "output_type": "stream",
     "text": [
      "6.062951329676649\n",
      "9.179697380460448\n",
      "4.5293804266652335\n",
      "3.7339698892755595\n",
      "4.154534355180662\n",
      "5.479872731463289\n",
      "5.2382648795497175\n",
      "4.201436168681854\n",
      "00:00:11.53\n"
     ]
    }
   ],
   "source": [
    "#Nine times\n",
    "a4r=time.time()\n",
    "for i in range(1,9):\n",
    "    image_sample=rgb2gray(data.imread(fname=data_folder+\"/EP-00-00012_0119_000\"+str(i)+\".jpeg\"))\n",
    "    print(fast_tv_numba_par(image_sample,Gx))\n",
    "b4r=time.time()\n",
    "timer(a4r,b4r)"
   ]
  },
  {
   "cell_type": "code",
   "execution_count": 87,
   "metadata": {
    "colab": {},
    "colab_type": "code",
    "id": "inZpdVgkDTjK"
   },
   "outputs": [
    {
     "data": {
      "text/html": [
       "<table>\n",
       "<tbody>\n",
       "<tr><td>Architecture                                 </td><td>Time (s): For 9 times(s)</td><td>Time (s): For 9 times discount loading image</td></tr>\n",
       "<tr><td>Separate skimage sobel filter                </td><td>16.11                   </td><td>6.77                                        </td></tr>\n",
       "<tr><td>Separate Numba sobel filter                  </td><td>20.45                   </td><td>11.11                                       </td></tr>\n",
       "<tr><td>Total Variation with Numba                   </td><td>18.21                   </td><td>8.86                                        </td></tr>\n",
       "<tr><td>Total Variation with Parallel Numba (4 cores)</td><td>11.53                   </td><td>2.19                                        </td></tr>\n",
       "</tbody>\n",
       "</table>"
      ],
      "text/plain": [
       "<IPython.core.display.HTML object>"
      ]
     },
     "metadata": {},
     "output_type": "display_data"
    }
   ],
   "source": [
    "table = [['Architecture','Time (s): For 9 times(s)','Time (s): For 9 times discount loading image'],\n",
    "        ['Separate skimage sobel filter ',np.round(b1r-a1r,2),np.round(b1r-a1r+ar-br,2)],\n",
    "         ['Separate Numba sobel filter',np.round(b2r-a2r,2),np.round(b2r-a2r+ar-br,2)],\n",
    "         ['Total Variation with Numba',np.round(b3r-a3r,2),np.round(b3r-a3r+ar-br,2)],\n",
    "         ['Total Variation with Parallel Numba (4 cores) ',np.round(b4r-a4r,2),np.round(b4r-a4r+ar-br,2)]]\n",
    "display(HTML(tabulate.tabulate(table, tablefmt='html')))"
   ]
  },
  {
   "cell_type": "markdown",
   "metadata": {
    "colab_type": "text",
    "id": "VUoGqrGQIRYO"
   },
   "source": [
    "Multiproposal NR Method - Robust Curvelet (RC)\n",
    "======================\n",
    "\n",
    "Code for Download by page:  https://github.com/rgiostri/robustcurvelet\n",
    "\n",
    "More about RC :  https://arxiv.org/abs/1902.03842\n",
    "\n"
   ]
  },
  {
   "cell_type": "code",
   "execution_count": 0,
   "metadata": {
    "colab": {},
    "colab_type": "code",
    "id": "0IWsoohsIr1s"
   },
   "outputs": [],
   "source": []
  }
 ],
 "metadata": {
  "colab": {
   "name": "Complexidade.ipynb",
   "provenance": [],
   "version": "0.3.2"
  },
  "kernelspec": {
   "display_name": "Python 3",
   "language": "python",
   "name": "python3"
  },
  "language_info": {
   "codemirror_mode": {
    "name": "ipython",
    "version": 3
   },
   "file_extension": ".py",
   "mimetype": "text/x-python",
   "name": "python",
   "nbconvert_exporter": "python",
   "pygments_lexer": "ipython3",
   "version": "3.7.1"
  }
 },
 "nbformat": 4,
 "nbformat_minor": 1
}
