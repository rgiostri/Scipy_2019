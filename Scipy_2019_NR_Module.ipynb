{
  "nbformat": 4,
  "nbformat_minor": 0,
  "metadata": {
    "colab": {
      "name": "Complexidade.ipynb",
      "version": "0.3.2",
      "provenance": []
    },
    "kernelspec": {
      "display_name": "Python 2",
      "language": "python",
      "name": "python2"
    }
  },
  "cells": [
    {
      "metadata": {
        "id": "CvB-p0KKKO5q",
        "colab_type": "text"
      },
      "cell_type": "markdown",
      "source": [
        "How to use the no reference image quality assessment to get efficient storege in remote sensing.\n",
        "====================\n",
        "\n",
        "This work studies the relationships between the intrinsec features of images and the degradation caused by compaction.  We use 3 modules of software to get this relationships, and 2 modlues to use in application. \n",
        "\n",
        "Below is an example of this relationship, \n",
        "\n",
        "\n"
      ]
    },
    {
      "metadata": {
        "id": "0JxEkiZ2WwEC",
        "colab_type": "text"
      },
      "cell_type": "markdown",
      "source": [
        "\n"
      ]
    },
    {
      "metadata": {
        "id": "IHFHy3maXUWu",
        "colab_type": "code",
        "colab": {}
      },
      "cell_type": "code",
      "source": [
        "from IPython.display import Image\n",
        "from IPython.core.display import HTML "
      ],
      "execution_count": 0,
      "outputs": []
    },
    {
      "metadata": {
        "id": "9Suz2k2bXeUO",
        "colab_type": "code",
        "outputId": "da3b79ae-8b46-4b2e-83df-121a94999045",
        "colab": {
          "base_uri": "https://localhost:8080/",
          "height": 525
        }
      },
      "cell_type": "code",
      "source": [
        "Image(url= \"https://raw.githubusercontent.com/rgiostri/Scipy_2019/master/graphics/index_1.png\")"
      ],
      "execution_count": 30,
      "outputs": [
        {
          "output_type": "execute_result",
          "data": {
            "text/html": [
              "<img src=\"https://raw.githubusercontent.com/rgiostri/Scipy_2019/master/graphics/index_1.png\"/>"
            ],
            "text/plain": [
              "<IPython.core.display.Image object>"
            ]
          },
          "metadata": {
            "tags": []
          },
          "execution_count": 30
        }
      ]
    },
    {
      "metadata": {
        "id": "_UB_BuYYX9UM",
        "colab_type": "text"
      },
      "cell_type": "markdown",
      "source": [
        "In the graphics, the different colors are different bit rates in JPEG2000 compactation.\n",
        "\n",
        "This example use [Kakadu](http://kakadusoftware.com/) in compression module, the SSIM in quality module and Factal Dimension Gray Scale in No-Reference module.\n",
        "\n",
        "In the right chart, the $SSIM_R$ is the value of SSIM with bit-rate 2, this value is limit of visually lossless.\n",
        "\n",
        "Exploring this relationship it is possible to construct strategies to optimize memory,  below we make a sigmoid function training with [suburb images](https://senseflycom.s3.amazonaws.com/datasets/soda-hq/rgb-images.zip).\n"
      ]
    },
    {
      "metadata": {
        "id": "dOoipcWpbsBt",
        "colab_type": "code",
        "colab": {
          "base_uri": "https://localhost:8080/",
          "height": 525
        },
        "outputId": "19e399ab-6d46-44bb-d2d5-a113276434f8"
      },
      "cell_type": "code",
      "source": [
        "Image(url= \"https://raw.githubusercontent.com/rgiostri/Scipy_2019/master/graphics/index_2.png\")"
      ],
      "execution_count": 31,
      "outputs": [
        {
          "output_type": "execute_result",
          "data": {
            "text/html": [
              "<img src=\"https://raw.githubusercontent.com/rgiostri/Scipy_2019/master/graphics/index_2.png\"/>"
            ],
            "text/plain": [
              "<IPython.core.display.Image object>"
            ]
          },
          "metadata": {
            "tags": []
          },
          "execution_count": 31
        }
      ]
    },
    {
      "metadata": {
        "id": "qBOxURXqdDQV",
        "colab_type": "text"
      },
      "cell_type": "markdown",
      "source": [
        "The Disk Space is proportional to Bit-Rate.\n",
        "\n",
        "Using this simple strategy is possible reduce the save 70% of disk space in relacion the bit-rate 2, ensuring the desired accuracy testing with 3 different datasets.\n"
      ]
    },
    {
      "metadata": {
        "id": "R6XZTZeIJR7d",
        "colab_type": "text"
      },
      "cell_type": "markdown",
      "source": [
        "Sample of code:\n",
        "================\n",
        "\n",
        "Here are 3 meter options for use in the No-Reference module.\n"
      ]
    },
    {
      "metadata": {
        "id": "Kx2qdBI6JkTe",
        "colab_type": "code",
        "colab": {}
      },
      "cell_type": "code",
      "source": [
        "import numpy as np\n",
        "\n",
        "from skimage import data\n",
        "from skimage.color import rgb2gray\n",
        "from skimage.util import img_as_ubyte\n",
        "\n",
        "import time\n",
        "\n",
        "def timer(start,end):\n",
        "    hours, rem = divmod(end-start, 3600)\n",
        "    minutes, seconds = divmod(rem, 60)\n",
        "    print(\"{:0>2}:{:0>2}:{:05.2f}\".format(int(hours),int(minutes),seconds))  \n",
        "    \n",
        "    \n"
      ],
      "execution_count": 0,
      "outputs": []
    },
    {
      "metadata": {
        "id": "GlwCtojI5lTi",
        "colab_type": "code",
        "outputId": "be3c399f-4457-48e5-a375-5daef7d5ca2d",
        "colab": {
          "base_uri": "https://localhost:8080/",
          "height": 34
        }
      },
      "cell_type": "code",
      "source": [
        "from google.colab import drive\n",
        "drive.mount('/content/drive/')"
      ],
      "execution_count": 0,
      "outputs": [
        {
          "output_type": "stream",
          "text": [
            "Drive already mounted at /content/drive/; to attempt to forcibly remount, call drive.mount(\"/content/drive/\", force_remount=True).\n"
          ],
          "name": "stdout"
        }
      ]
    },
    {
      "metadata": {
        "id": "3ypkCDG-t0bX",
        "colab_type": "code",
        "colab": {}
      },
      "cell_type": "code",
      "source": [
        "data_folder='/content/drive/My Drive/Colab Notebooks/sample_images'"
      ],
      "execution_count": 0,
      "outputs": []
    },
    {
      "metadata": {
        "id": "yOOSd-y5uwWa",
        "colab_type": "code",
        "colab": {}
      },
      "cell_type": "code",
      "source": [
        "image_sample=img_as_ubyte(rgb2gray(data.imread(fname=data_folder+\"/EP-00-00012_0119_0001.bmp\")))"
      ],
      "execution_count": 0,
      "outputs": []
    },
    {
      "metadata": {
        "id": "q--qjCCbvkc1",
        "colab_type": "text"
      },
      "cell_type": "markdown",
      "source": [
        "Fractal dimension gray (FDG) - With box counting\n",
        "=========================\n",
        "\n",
        "Code inspired by page:  https://francescoturci.net/2016/03/31/box-counting-in-numpy/\n",
        "\n",
        "More about FDG:  https://link.springer.com/chapter/10.1007/978-981-10-7871-2_22\n",
        "\n",
        "\n",
        "Simple Loop vs Numpy  functions vs Parallell Split Image with joblib\n",
        "----------------------\n",
        "\n",
        "Simple Loop vesions"
      ]
    },
    {
      "metadata": {
        "id": "sD9in-9bxOz4",
        "colab_type": "code",
        "colab": {}
      },
      "cell_type": "code",
      "source": [
        "#\n",
        "# simpler and slower\n",
        "#\n",
        "\n",
        "def fractal_dimension_gray(image,M=256):\n",
        "    \n",
        "    # Only for 2d image\n",
        "    assert(len(image.shape) == 2)\n",
        "    dim_h,dim_v=image.shape\n",
        "    \n",
        "    #Indices in 3D structure\n",
        "    ind=[]\n",
        "    for i in range(dim_h):\n",
        "        for j in range(dim_v):\n",
        "            if image[i,j]>0:\n",
        "                ind.append((i,j,Z_2[i,j]))\n",
        "    ind=np.array(ind)\n",
        "\n",
        "    # Minimal dimension of image\n",
        "    p = min((dim_h,dim_v,M))\n",
        "\n",
        "    # Greatest power of 2 less than or equal to p\n",
        "    n = 2**np.floor(np.log(p)/np.log(2))\n",
        "\n",
        "    # Extract the exponent\n",
        "    n = int(np.log(n)/np.log(2))\n",
        "\n",
        "    # Build successive box sizes (from 2**n down to 2**1)\n",
        "    sizes = 2**np.arange(n, 0, -2)\n",
        "\n",
        "    # Actual box counting with decreasing size\n",
        "    Ns = []\n",
        "    for size in sizes:\n",
        "        H, edges=np.histogramdd(ind, bins=(np.arange(0,dim_h+size,size),np.arange(0,dim_v+size,size),np.arange(0,M+1,size)))\n",
        "        Ns.append(np.sum(H>0))\n",
        "\n",
        "    # Fit the successive log(sizes) with log (counts)\n",
        "    coeffs = np.polyfit(np.log(sizes), np.log(Ns), 1)\n",
        "    return -coeffs[0]\n"
      ],
      "execution_count": 0,
      "outputs": []
    },
    {
      "metadata": {
        "id": "qZMCr7Xexi7M",
        "colab_type": "code",
        "outputId": "5ecfbd0e-55aa-466d-b969-87327f86fadd",
        "colab": {
          "base_uri": "https://localhost:8080/",
          "height": 52
        }
      },
      "cell_type": "code",
      "source": [
        "# time spent for once\n",
        "a=time.time()\n",
        "print fractal_dimension_gray(image_sample)\n",
        "b=time.time()\n",
        "timer(a,b)"
      ],
      "execution_count": 0,
      "outputs": [
        {
          "output_type": "stream",
          "text": [
            "2.4055603640540757\n",
            "00:01:02.39\n"
          ],
          "name": "stdout"
        }
      ]
    },
    {
      "metadata": {
        "id": "gu1hl1z_yNGN",
        "colab_type": "text"
      },
      "cell_type": "markdown",
      "source": [
        "Numpy funcitions version"
      ]
    },
    {
      "metadata": {
        "id": "zGX718hh5lTx",
        "colab_type": "code",
        "colab": {}
      },
      "cell_type": "code",
      "source": [
        "#\n",
        "# Replace the fist loop to make a 3D strutire\n",
        "#\n",
        "def image_3d_no_zero(image):\n",
        "  #flags\n",
        "  assert(len(image.shape) == 2)\n",
        "  #only no zero index\n",
        "  mask_no_0=image>0\n",
        "  n_dif_zero=np.sum(mask_no_0)\n",
        "  # no zero image\n",
        "  assert(n_dif_zero > 0)\n",
        "  image_single_index=image[mask_no_0].reshape(n_dif_zero)\n",
        "  index=np.argwhere(mask_no_0).T\n",
        "  return np.vstack((index,image_single_index)).T"
      ],
      "execution_count": 0,
      "outputs": []
    },
    {
      "metadata": {
        "id": "r799ICVl5lUM",
        "colab_type": "code",
        "colab": {}
      },
      "cell_type": "code",
      "source": [
        "#\n",
        "# Separating the For of scales - Is possible parallel this using joblib or numba or other packages\n",
        "#\n",
        "\n",
        "def for_scales(im3d,scales,bins_lim):\n",
        "    Ns=[]\n",
        "    for size in scales:\n",
        "        H, edges=np.histogramdd(im3d, bins=(np.arange(0,bins_lim[0]+size,size),np.arange(0,bins_lim[1]+size,size),np.arange(0,bins_lim[2]+size,size)))\n",
        "        Ns.append(np.sum(H>0))\n",
        "    return Ns"
      ],
      "execution_count": 0,
      "outputs": []
    },
    {
      "metadata": {
        "id": "G9Oj5bX509Vn",
        "colab_type": "code",
        "colab": {}
      },
      "cell_type": "code",
      "source": [
        "# Split in blocks of code\n",
        "\n",
        "\n",
        "def fractal_dimension_gray_np(Z_2,M=256):\n",
        "    \n",
        "    dim_h,dim_v=Z_2.shape\n",
        "    \n",
        "    #Indices in 3D structure\n",
        "    ind=image_3d_no_zero(Z_2)\n",
        "\n",
        "    # Minimal dimension of image\n",
        "    p = min((dim_h,dim_v,M))\n",
        "\n",
        "    # Greatest power of 2 less than or equal to p\n",
        "    n = 2**np.floor(np.log(p)/np.log(2))\n",
        "\n",
        "    # Extract the exponent\n",
        "    n = int(np.log(n)/np.log(2))\n",
        "\n",
        "    # Build successive box sizes (from 2**n down to 2**1)\n",
        "    sizes = 2**np.arange(n, 0, -2)\n",
        "    \n",
        "    # Actual box counting with decreasing size\n",
        "    \n",
        "    Ns=for_scales(ind,sizes,(dim_h,dim_v,M))\n",
        "    \n",
        "    # Fit the successive log(sizes) with log (counts)\n",
        "    coeffs = np.polyfit(np.log(sizes), np.log(Ns), 1)\n",
        "    return -coeffs[0]"
      ],
      "execution_count": 0,
      "outputs": []
    },
    {
      "metadata": {
        "id": "HHvb7P-h1t7f",
        "colab_type": "code",
        "outputId": "1253489c-b123-4c57-ed23-00ed1f0aeeeb",
        "colab": {
          "base_uri": "https://localhost:8080/",
          "height": 52
        }
      },
      "cell_type": "code",
      "source": [
        "#  time spent for once\n",
        "a=time.time()\n",
        "print fractal_dimension_gray_np(image_sample)\n",
        "b=time.time()\n",
        "timer(a,b)"
      ],
      "execution_count": 0,
      "outputs": [
        {
          "output_type": "stream",
          "text": [
            "2.4055603640540757\n",
            "00:00:09.60\n"
          ],
          "name": "stdout"
        }
      ]
    },
    {
      "metadata": {
        "id": "DkMgzpFX22e7",
        "colab_type": "text"
      },
      "cell_type": "markdown",
      "source": [
        "Paralleling the scales  using joblib"
      ]
    },
    {
      "metadata": {
        "id": "KekVMY6_4NqV",
        "colab_type": "code",
        "colab": {}
      },
      "cell_type": "code",
      "source": [
        "from joblib import Parallel, delayed"
      ],
      "execution_count": 0,
      "outputs": []
    },
    {
      "metadata": {
        "id": "rRuwnfiH6UsF",
        "colab_type": "code",
        "colab": {}
      },
      "cell_type": "code",
      "source": [
        "#\n",
        "# Without loop\n",
        "#\n",
        "def core_for_scales(im3d,size,bins_lim):\n",
        "    H, edges=np.histogramdd(im3d, bins=(np.arange(0,bins_lim[0]+size,size),np.arange(0,bins_lim[1]+size,size),np.arange(0,bins_lim[2]+size,size)))\n",
        "    return np.sum(H>0)"
      ],
      "execution_count": 0,
      "outputs": []
    },
    {
      "metadata": {
        "id": "YrQVE-ha20Dl",
        "colab_type": "code",
        "colab": {}
      },
      "cell_type": "code",
      "source": [
        "# Split in blocks of code\n",
        "# Note about Number of cores : More cores => More memory spent\n",
        "\n",
        "\n",
        "def fractal_dimension_gray_np_parallel_scale(Z_2,M=256,cores=2):\n",
        "    \n",
        "    dim_h,dim_v=Z_2.shape\n",
        "    \n",
        "    #Indices in 3D structure\n",
        "    ind=image_3d_no_zero(Z_2)\n",
        "\n",
        "    # Minimal dimension of image\n",
        "    p = min((dim_h,dim_v,M))\n",
        "\n",
        "    # Greatest power of 2 less than or equal to p\n",
        "    n = 2**np.floor(np.log(p)/np.log(2))\n",
        "\n",
        "    # Extract the exponent\n",
        "    n = int(np.log(n)/np.log(2))\n",
        "\n",
        "    # Build successive box sizes (from 2**n down to 2**1)\n",
        "    sizes = 2**np.arange(n, 0, -2)    \n",
        "    \n",
        "        \n",
        "    # Actual box counting with decreasing size\n",
        "    \n",
        "    Ns=Parallel(n_jobs=cores)(delayed(core_for_scales)(ind,node,(dim_h,dim_v,M)) for node in sizes)\n",
        "    \n",
        "    # Fit the successive log(sizes) with log (counts)\n",
        "    coeffs = np.polyfit(np.log(sizes), np.log(Ns), 1)\n",
        "    return -coeffs[0]"
      ],
      "execution_count": 0,
      "outputs": []
    },
    {
      "metadata": {
        "id": "0dp3NNml47AX",
        "colab_type": "code",
        "outputId": "093d11e7-2353-48f5-f5de-b23709dfa643",
        "colab": {
          "base_uri": "https://localhost:8080/",
          "height": 52
        }
      },
      "cell_type": "code",
      "source": [
        "#  time spent for once\n",
        "a=time.time()\n",
        "print fractal_dimension_gray_np_parallel_scale(image_sample)\n",
        "b=time.time()\n",
        "timer(a,b)"
      ],
      "execution_count": 0,
      "outputs": [
        {
          "output_type": "stream",
          "text": [
            "2.4055603640540757\n",
            "00:00:11.84\n"
          ],
          "name": "stdout"
        }
      ]
    },
    {
      "metadata": {
        "id": "CnxANzYQ5lUs",
        "colab_type": "text"
      },
      "cell_type": "markdown",
      "source": [
        "Parallell Split Image"
      ]
    },
    {
      "metadata": {
        "id": "ZHOTfb4O5lVb",
        "colab_type": "code",
        "colab": {}
      },
      "cell_type": "code",
      "source": [
        "#\n",
        "# Split image in blocks with size (M,N)\n",
        "#\n",
        "#\n",
        "\n",
        "def split_images_block(image,block=(256,256)):\n",
        "    ### Initial quantity\n",
        "    M,N = image.shape #\n",
        "    m,n = block #\n",
        "    Mim, Nin = M/m, N/n # number of integer blocks available\n",
        "    Mrm, Nrn = M%m, N%n # number of over pixels\n",
        "    #print Mrm, Nrn\n",
        "    im=np.zeros((M+m,N+n))\n",
        "    im[:M,:N]=image[:,:]\n",
        "    \n",
        "    if Mrm==0:\n",
        "        dm=0\n",
        "    else:\n",
        "        dm=1\n",
        "    if Nrn==0:\n",
        "        dn=0\n",
        "    else:\n",
        "        dn=1\n",
        "        \n",
        "    range_m=np.arange(Mim+dm)\n",
        "    range_n=np.arange(Nin+dn)\n",
        "    \n",
        "    sample = () # inicialize output\n",
        "    \n",
        "    ########\n",
        "    cont=0\n",
        "    for i in range_m:\n",
        "        for j in range_n:\n",
        "            im_slice=im[m*i:m*i+m,n*j:n*j+n]\n",
        "            sample+=((im_slice),)\n",
        "    return np.array(sample).astype(np.int)\n"
      ],
      "execution_count": 0,
      "outputs": []
    },
    {
      "metadata": {
        "id": "L8ZThXko5lWN",
        "colab_type": "code",
        "colab": {}
      },
      "cell_type": "code",
      "source": [
        "def Sizes_FDG(M=256,block=(256,256),step=2):\n",
        "    #\n",
        "    #\n",
        "    dim_h,dim_v=block\n",
        "    # Minimal dimension of image\n",
        "    p = min((dim_h,dim_v,M))\n",
        "    # Greatest power of 2 less than or equal to p\n",
        "    n = 2**np.floor(np.log(p)/np.log(2))\n",
        "    # Extract the exponent\n",
        "    n = int(np.log(n)/np.log(2))\n",
        "    # Build successive box sizes (from 2**n down to 2**1)\n",
        "    return 2**np.arange(n, 0, -1*step)\n",
        "    "
      ],
      "execution_count": 0,
      "outputs": []
    },
    {
      "metadata": {
        "id": "0jM-m4Vn5lWU",
        "colab_type": "code",
        "colab": {}
      },
      "cell_type": "code",
      "source": [
        "def Counts_py_FDG(image,sizes,M=256,block=(256,256),step=2):\n",
        "    #\n",
        "    dim_h,dim_v=block\n",
        "    #\n",
        "    ind=image_3d_no_zero(image)\n",
        "    #\n",
        "    #\n",
        "    Ns = []\n",
        "    for size in sizes:\n",
        "        H, edges=np.histogramdd(ind, bins=(np.arange(0,dim_h+size,size),np.arange(0,dim_v+size,size),np.arange(0,M+size,size)))\n",
        "        Ns.append(np.sum(H>0))\n",
        "    return Ns"
      ],
      "execution_count": 0,
      "outputs": []
    },
    {
      "metadata": {
        "id": "HlVGRLaa5lWY",
        "colab_type": "code",
        "colab": {}
      },
      "cell_type": "code",
      "source": [
        "def Loop_py_FDG(image,M=256,block=(256,256),step=2,cores=1):\n",
        "    \n",
        "    assert(len(image.shape) == 2)\n",
        "    \n",
        "    #Sizes\n",
        "    sizes=Sizes_FDG(M,block,step)\n",
        "    \n",
        "    im_slice=split_images_block(image,block)\n",
        "    \n",
        "    Ns=Parallel(n_jobs=cores)(delayed(Counts_py_FDG)(node,sizes,M,block,step) for node in im_slice)\n",
        "    counts=np.sum(Ns,axis=0)\n",
        "    \n",
        "    coeffs = np.polyfit(np.log(sizes), np.log(counts), 1)\n",
        "\n",
        "    return -coeffs[0]\n",
        "    "
      ],
      "execution_count": 0,
      "outputs": []
    },
    {
      "metadata": {
        "id": "4aWoJy3T5lWb",
        "colab_type": "code",
        "outputId": "0c3ba2ad-8ac2-4e8a-c08c-c6fadf6a1265",
        "colab": {
          "base_uri": "https://localhost:8080/",
          "height": 52
        }
      },
      "cell_type": "code",
      "source": [
        "#  time spent for once\n",
        "a=time.time()\n",
        "print Loop_py_FDG(image_sample,cores=2)\n",
        "b=time.time()\n",
        "timer(a,b)"
      ],
      "execution_count": 0,
      "outputs": [
        {
          "output_type": "stream",
          "text": [
            "2.4055603640540757\n",
            "00:00:07.84\n"
          ],
          "name": "stdout"
        }
      ]
    },
    {
      "metadata": {
        "id": "PgwgI3Sd5lXX",
        "colab_type": "text"
      },
      "cell_type": "markdown",
      "source": [
        "Edge Density - With Total Variation ( TV )\n",
        "==========\n",
        "\n",
        "Code inspired by page:  http://numba.pydata.org/numba-doc/0.15.1/examples.html\n",
        "\n",
        "More about TV : https://link.springer.com/referenceworkentry/10.1007%2F978-0-387-92920-0_23\n",
        "\n",
        "Scikit-Image Sobel vs Numba Exemple Vs Numba Parallel\n",
        "-------------------------------------\n",
        "\n",
        "Scikit-Image Sobel\n",
        "\n"
      ]
    },
    {
      "metadata": {
        "id": "W82kqzar_z8C",
        "colab_type": "code",
        "colab": {}
      },
      "cell_type": "code",
      "source": [
        "from skimage.filters import sobel_h, sobel_v"
      ],
      "execution_count": 0,
      "outputs": []
    },
    {
      "metadata": {
        "id": "oFa4NfXo_qs0",
        "colab_type": "code",
        "colab": {}
      },
      "cell_type": "code",
      "source": [
        "def tv_image_sobel_sk(x):\n",
        "    pv,ph=x.shape\n",
        "    vdiff = sobel_v(x)\n",
        "    hdiff = sobel_h(x)\n",
        "    v_norma = np.sqrt(vdiff**2+hdiff**2)\n",
        "    return (100*np.sum((v_norma-v_norma.min())/(v_norma.max()-v_norma.min())/(pv*ph)))"
      ],
      "execution_count": 0,
      "outputs": []
    },
    {
      "metadata": {
        "id": "RiRrHhhxAPyO",
        "colab_type": "code",
        "colab": {}
      },
      "cell_type": "code",
      "source": [
        "# In -1 to 1 interval\n",
        "image_sample=rgb2gray(data.imread(fname=data_folder+\"/EP-00-00012_0119_0001.bmp\")).astype(np.float32)"
      ],
      "execution_count": 0,
      "outputs": []
    },
    {
      "metadata": {
        "id": "XjpTEPc3AFAK",
        "colab_type": "code",
        "outputId": "6fe2122b-0558-457e-cd1e-f6c5f12cf4b7",
        "colab": {
          "base_uri": "https://localhost:8080/",
          "height": 52
        }
      },
      "cell_type": "code",
      "source": [
        "# time spent for once\n",
        "a=time.time()\n",
        "print tv_image_sobel_sk(image_sample)\n",
        "b=time.time()\n",
        "timer(a,b)"
      ],
      "execution_count": 0,
      "outputs": [
        {
          "output_type": "stream",
          "text": [
            "5.993466075656425\n",
            "00:00:01.14\n"
          ],
          "name": "stdout"
        }
      ]
    },
    {
      "metadata": {
        "id": "CVqbihyZBjM_",
        "colab_type": "code",
        "outputId": "cd3d3197-55b4-447c-ae71-3fbc420bbed4",
        "colab": {
          "base_uri": "https://localhost:8080/",
          "height": 173
        }
      },
      "cell_type": "code",
      "source": [
        "#Nine times\n",
        "a=time.time()\n",
        "for i in range(1,9):\n",
        "    image_sample=rgb2gray(data.imread(fname=data_folder+\"/EP-00-00012_0119_000\"+str(i)+\".bmp\")).astype(np.float32)\n",
        "    x=tv_image_sobel_sk(image_sample)\n",
        "    print x\n",
        "b=time.time()\n",
        "timer(a,b)"
      ],
      "execution_count": 0,
      "outputs": [
        {
          "output_type": "stream",
          "text": [
            "5.993466075656425\n",
            "9.208419235621731\n",
            "4.381172459683846\n",
            "3.7731116177527086\n",
            "4.124485259696868\n",
            "5.787335948452389\n",
            "5.369725139192727\n",
            "4.305995229615803\n",
            "00:00:18.17\n"
          ],
          "name": "stdout"
        }
      ]
    },
    {
      "metadata": {
        "id": "_kclTcI6ARpf",
        "colab_type": "text"
      },
      "cell_type": "markdown",
      "source": [
        "Numba Exemple"
      ]
    },
    {
      "metadata": {
        "id": "9MVec-Iz5lXZ",
        "colab_type": "code",
        "colab": {}
      },
      "cell_type": "code",
      "source": [
        "import numba as nb"
      ],
      "execution_count": 0,
      "outputs": []
    },
    {
      "metadata": {
        "id": "s9-LWA8G5lXc",
        "colab_type": "code",
        "colab": {}
      },
      "cell_type": "code",
      "source": [
        "def filter2d(image, filt):\n",
        "    M, N = image.shape\n",
        "    Mf, Nf = filt.shape\n",
        "    Mf2 = Mf // 2\n",
        "    Nf2 = Nf // 2\n",
        "    result = np.zeros_like(image)\n",
        "    for i in range(Mf2, M - Mf2):\n",
        "        for j in range(Nf2, N - Nf2):\n",
        "            num = 0.0\n",
        "            for ii in range(Mf):\n",
        "                for jj in range(Nf):\n",
        "                    num += (filt[Mf-1-ii, Nf-1-jj] * image[i-Mf2+ii, j-Nf2+jj])\n",
        "            result[i, j] = num\n",
        "    return result\n",
        "\n",
        "# This kind of quadruply-nested for-loop is going to be quite slow.\n",
        "# Using Numba we can compile this code to LLVM which then gets\n",
        "# compiled to machine code:\n",
        "\n",
        "fastfilter_2d = nb.jit(nb.float_[:,:](nb.float_[:,:], nb.float_[:,:]))(filter2d)\n",
        "\n",
        "# Now fastfilter_2d runs at speeds as if you had first translated\n",
        "# it to C, compiled the code and wrapped it with Python"
      ],
      "execution_count": 0,
      "outputs": []
    },
    {
      "metadata": {
        "id": "Wh2D402F5lXk",
        "colab_type": "code",
        "colab": {}
      },
      "cell_type": "code",
      "source": [
        "# Sobel Masks\n",
        "Gx=np.array(((-1,0,+1),(-2,0,+2),(-1,0,+1)),dtype=np.float32)\n",
        "Gy=Gx.T[::-1]"
      ],
      "execution_count": 0,
      "outputs": []
    },
    {
      "metadata": {
        "id": "iE2tAkll5lXs",
        "colab_type": "code",
        "colab": {}
      },
      "cell_type": "code",
      "source": [
        "def tv_image_sobel_numba(x):\n",
        "    pv,ph=x.shape\n",
        "    vdiff = fastfilter_2d(x,Gx)\n",
        "    hdiff = fastfilter_2d(x,Gy)\n",
        "    v_norma =  np.sqrt(vdiff**2+hdiff**2)\n",
        "    return (100*np.sum((v_norma-v_norma.min())/(v_norma.max()-v_norma.min())/(pv*ph)))"
      ],
      "execution_count": 0,
      "outputs": []
    },
    {
      "metadata": {
        "id": "Zw1jMtPj5lXv",
        "colab_type": "code",
        "outputId": "578fca71-f51c-48f4-88b4-db97d9468bb3",
        "colab": {
          "base_uri": "https://localhost:8080/",
          "height": 52
        }
      },
      "cell_type": "code",
      "source": [
        "# time spent for once\n",
        "a=time.time()\n",
        "print tv_image_sobel_numba(image_sample)\n",
        "b=time.time()\n",
        "timer(a,b)"
      ],
      "execution_count": 0,
      "outputs": [
        {
          "output_type": "stream",
          "text": [
            "4.305995357426297\n",
            "00:00:01.65\n"
          ],
          "name": "stdout"
        }
      ]
    },
    {
      "metadata": {
        "id": "rm5sLdBC5lX2",
        "colab_type": "code",
        "outputId": "00249096-e972-41a5-b99f-0d3303bdf0ab",
        "colab": {
          "base_uri": "https://localhost:8080/",
          "height": 173
        }
      },
      "cell_type": "code",
      "source": [
        "#Nine times\n",
        "a=time.time()\n",
        "for i in range(1,9):\n",
        "    image_sample=rgb2gray(data.imread(fname=data_folder+\"/EP-00-00012_0119_000\"+str(i)+\".bmp\")).astype(np.float32)\n",
        "    x=tv_image_sobel_numba(image_sample)\n",
        "    print x\n",
        "b=time.time()\n",
        "timer(a,b)"
      ],
      "execution_count": 0,
      "outputs": [
        {
          "output_type": "stream",
          "text": [
            "5.993466271142471\n",
            "9.208419229476771\n",
            "4.381172428060171\n",
            "3.7731117041986715\n",
            "4.1244853231298135\n",
            "5.787335961742245\n",
            "5.369725168580316\n",
            "4.305995357426297\n",
            "00:00:22.08\n"
          ],
          "name": "stdout"
        }
      ]
    },
    {
      "metadata": {
        "id": "bBB2ljAbCWK-",
        "colab_type": "text"
      },
      "cell_type": "markdown",
      "source": [
        "Use filter to make a TV with or without parallelism"
      ]
    },
    {
      "metadata": {
        "id": "nMXhC1kT5lZE",
        "colab_type": "code",
        "colab": {}
      },
      "cell_type": "code",
      "source": [
        "@nb.jit()\n",
        "\n",
        "def fast_tv_numba(image, filt):\n",
        "    filt_x=filt[:,:]\n",
        "    filt_y=filt.T[::-1]\n",
        "    M, N = image.shape\n",
        "    Mf, Nf = filt.shape\n",
        "    Mf2 = Mf // 2\n",
        "    Nf2 = Nf // 2\n",
        "    result = np.zeros_like(image)\n",
        "    for i in range(Mf2, M - Mf2):\n",
        "        for j in range(Nf2, N - Nf2):\n",
        "            num_x = 0.0\n",
        "            num_y = 0.0\n",
        "            for ii in range(Mf):\n",
        "                for jj in range(Nf):\n",
        "                    num_x += (filt_x[Mf-1-ii, Nf-1-jj] * image[i-Mf2+ii, j-Nf2+jj])\n",
        "                    num_y += (filt_y[Mf-1-ii, Nf-1-jj] * image[i-Mf2+ii, j-Nf2+jj])\n",
        "            result[i, j] = np.sqrt(num_x**2+num_y**2)\n",
        "    return (100*np.sum((result-result.min())/(result.max()-result.min())/(M*N)))"
      ],
      "execution_count": 0,
      "outputs": []
    },
    {
      "metadata": {
        "id": "iT1N6rF-Ct_L",
        "colab_type": "code",
        "outputId": "8361d415-4ec7-4b80-91ac-430909bfb067",
        "colab": {
          "base_uri": "https://localhost:8080/",
          "height": 173
        }
      },
      "cell_type": "code",
      "source": [
        "#Nine times\n",
        "a=time.time()\n",
        "for i in range(1,9):\n",
        "    image_sample=rgb2gray(data.imread(fname=data_folder+\"/EP-00-00012_0119_000\"+str(i)+\".bmp\"))\n",
        "    x=fast_tv_numba(image_sample,Gx)\n",
        "    print x\n",
        "b=time.time()\n",
        "timer(a,b)"
      ],
      "execution_count": 0,
      "outputs": [
        {
          "output_type": "stream",
          "text": [
            "5.99346597215\n",
            "9.20841937218\n",
            "4.38117251231\n",
            "3.77311153713\n",
            "4.12448516586\n",
            "5.78733602231\n",
            "5.36972511191\n",
            "4.30599522467\n",
            "00:00:17.38\n"
          ],
          "name": "stdout"
        }
      ]
    },
    {
      "metadata": {
        "id": "fF9dsenlC37C",
        "colab_type": "code",
        "colab": {}
      },
      "cell_type": "code",
      "source": [
        "@nb.njit(parallel=True)\n",
        "\n",
        "def fast_tv_numba_par(image, filt):\n",
        "    filt_x=filt[:,:]\n",
        "    filt_y=filt.T[::-1]\n",
        "    M, N = image.shape\n",
        "    Mf, Nf = filt.shape\n",
        "    Mf2 = Mf // 2\n",
        "    Nf2 = Nf // 2\n",
        "    result = np.zeros_like(image)\n",
        "    for i in nb.prange(Mf2, M - Mf2):\n",
        "        for j in range(Nf2, N - Nf2):\n",
        "            num_x = 0.0\n",
        "            num_y = 0.0\n",
        "            for ii in range(Mf):\n",
        "                for jj in range(Nf):\n",
        "                    num_x += (filt_x[Mf-1-ii, Nf-1-jj] * image[i-Mf2+ii, j-Nf2+jj])\n",
        "                    num_y += (filt_y[Mf-1-ii, Nf-1-jj] * image[i-Mf2+ii, j-Nf2+jj])\n",
        "            result[i, j] = np.sqrt(num_x**2+num_y**2)\n",
        "    return (100*np.sum((result-result.min())/(result.max()-result.min())/(M*N)))"
      ],
      "execution_count": 0,
      "outputs": []
    },
    {
      "metadata": {
        "id": "AfEN0g-7DRzA",
        "colab_type": "code",
        "outputId": "5d1955b8-8a86-44dd-a7a4-2ec684a21f9c",
        "colab": {
          "base_uri": "https://localhost:8080/",
          "height": 173
        }
      },
      "cell_type": "code",
      "source": [
        "#Nine times\n",
        "a=time.time()\n",
        "for i in range(1,9):\n",
        "    image_sample=rgb2gray(data.imread(fname=data_folder+\"/EP-00-00012_0119_000\"+str(i)+\".bmp\"))\n",
        "    x=fast_tv_numba_par(image_sample,Gx)\n",
        "    print x\n",
        "b=time.time()\n",
        "timer(a,b)"
      ],
      "execution_count": 0,
      "outputs": [
        {
          "output_type": "stream",
          "text": [
            "5.99346597216\n",
            "9.20841937214\n",
            "4.38117251237\n",
            "3.77311153709\n",
            "4.1244851659\n",
            "5.78733602229\n",
            "5.36972511191\n",
            "4.30599522466\n",
            "00:00:18.23\n"
          ],
          "name": "stdout"
        }
      ]
    },
    {
      "metadata": {
        "id": "inZpdVgkDTjK",
        "colab_type": "code",
        "colab": {}
      },
      "cell_type": "code",
      "source": [
        ""
      ],
      "execution_count": 0,
      "outputs": []
    },
    {
      "metadata": {
        "id": "VUoGqrGQIRYO",
        "colab_type": "text"
      },
      "cell_type": "markdown",
      "source": [
        "Multiproposal NR Method - Robust Curvelet (RC)\n",
        "======================\n",
        "\n",
        "Code for Download by page:  https://github.com/rgiostri/robustcurvelet\n",
        "\n",
        "More about RC :  https://arxiv.org/abs/1902.03842\n",
        "\n"
      ]
    },
    {
      "metadata": {
        "id": "0IWsoohsIr1s",
        "colab_type": "code",
        "colab": {}
      },
      "cell_type": "code",
      "source": [
        ""
      ],
      "execution_count": 0,
      "outputs": []
    }
  ]
}