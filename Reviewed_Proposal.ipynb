{
  "nbformat": 4,
  "nbformat_minor": 0,
  "metadata": {
    "colab": {
      "name": "Reviewed_Proposal.ipynb",
      "version": "0.3.2",
      "provenance": [],
      "collapsed_sections": []
    },
    "kernelspec": {
      "name": "python3",
      "display_name": "Python 3"
    }
  },
  "cells": [
    {
      "metadata": {
        "id": "I2fsGU3VT5FC",
        "colab_type": "text"
      },
      "cell_type": "markdown",
      "source": [
        "This document contains the revised proposal submitted to Scipy 2019.\n",
        "\n",
        "The short summary was modify to be more clear and explicable."
      ]
    },
    {
      "metadata": {
        "id": "BcB-LrcO70u9",
        "colab_type": "text"
      },
      "cell_type": "markdown",
      "source": [
        "Title:\n",
        "-------\n",
        "How to use the no reference image quality assessment to get efficient storege in remote sensing.\n",
        "===================\n",
        "\n",
        "Author keywords:\n",
        "---------------\n",
        "No-Reference Image quality Assessment\n",
        "Remote Sensing\n",
        "Image compression\n",
        "Efficient Storage\n",
        "\n",
        "Abstract:\n",
        "--------------\n",
        "Background:In recent years, no-reference (NR) image quality assessment (IQA) has been prominent, most because of its usage in applied sciences and computer vision. In the literature, there is many IQA methods, with different computational costs and memory requirements. This work proposes a strategy to use a NR-IQA in order to make a better memory management for the storage or transmission of compressed remote sensing images. In this way, this proposal analyses some parameters as computational cost, degree of parallelism, desired level of quality and their effects on memory usage. In special, from the point of view of perceptual quality image, the effects of compression could be expressed according to several degrees of visual sensations: the largest being lossless compression, followed by visually lossless (lossy compression that produces negligible differences), and several levels of lossy compression. By exploring different perceptual quality grades, it is possible to devise a compression strategy that actively chooses a compression rate that requires a small amount of disk space given a user-specified quality threshold and the content of the image. Despite this strategy can be adapted to several microprocessors, in this work the focus is on light hardware structures, aiming the application to drones. To do so, the strategy has 3 modules: a compression module using JPEG2000; a quality measurement module using the SSIM image quality index (training only), and a NR module written in python with additional packages. To reproducibility, public examples of these methods can be found on the site https://github.com/rgiostri. Contribution: Elaboration of a strategy for memory management. Application of this strategy to compression to JPEG2000 direct and associated to strategies of region of interest (ROI). A didactic contribution is the demonstration of methodologies to parallelize the image processing in python. To do so, CPU and GPU parallelism of Python modules like joblib, PyCuda or Numba are used. Another didactic contribution is the implementation of ROI in python. Methods: It is possible to establish a relationship between the compression level (CR), the original and compressed image quality difference (DOC), and the intrinsic quality of the original image (IQ). Once this relationship has been established by training, it is possible to use it to optimize the compression step given the maximum DOC accepted by the user and the IQ of the image photographed in the sensing process. We use three aero photogrammetry databases for cross-validation purposes. This strategy is implemented for direct compression and associated with ROI strategies already implemented in the compression software. Results and Conclusions: A substantial memory economy with low impact on the quality of compressed images is experimentally demonstrated.\n",
        "\n",
        "topic\n",
        "-----------\n",
        "Image Processing\n",
        "\n",
        "Short summary\n",
        "------------------\n",
        "It is possible to establish a relationship between the characteristics of an input image and the maximum compression level that guarantees quality. This work seeks to use No-Reference Quality Methods in remote sensing images, and set automatically the most appropriate compression for get the good compromise between quality and saving space for storage. The method has 3 modules and scalable for different types of hardware, the focus is the lightweight devices. The highlight will be the No-Reference module, with two examples using Python3 + NumPy parallelized, a more complex example uses PyCurvelab, the package provide a binding between Python2.7 and the Curvelet transform."
      ]
    }
  ]
}